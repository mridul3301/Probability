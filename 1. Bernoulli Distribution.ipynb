{
  "nbformat": 4,
  "nbformat_minor": 0,
  "metadata": {
    "colab": {
      "provenance": []
    },
    "kernelspec": {
      "name": "python3",
      "display_name": "Python 3"
    },
    "language_info": {
      "name": "python"
    }
  },
  "cells": [
    {
      "cell_type": "markdown",
      "source": [
        "### Bernoulli Distribution"
      ],
      "metadata": {
        "id": "1QtHaShRSB9L"
      }
    },
    {
      "cell_type": "markdown",
      "source": [
        "In probability theory and statistics, the Bernoulli distribution is a discrete probability distribution for a single binary outcome (success/failure, yes/no, on/off, true/false, etc.). The distribution describes the probability of getting one outcome (usually called \"success\") given the probability of success p."
      ],
      "metadata": {
        "id": "YmrMSCuASSCc"
      }
    },
    {
      "cell_type": "markdown",
      "source": [
        "The Bernoulli distribution is characterized by a single parameter, usually denoted as \"`p`,\" which represents the probability of success. The probability of failure is given by `1 - p`.\n",
        "\n",
        "The probability mass function (PMF) of the Bernoulli distribution is:\n",
        "\n",
        "`P(x) = p^x * (1 - p)^(1-x)`\n",
        "\n",
        "where:\n",
        "\n",
        "`P(x)` is the probability of observing the value x (either 0 or 1),\n",
        "`x` is the outcome (0 for failure, 1 for success),\n",
        "`p` is the probability of success."
      ],
      "metadata": {
        "id": "VO0KxKTaTAJf"
      }
    },
    {
      "cell_type": "markdown",
      "source": [
        "The expected value (mean) of the Bernoulli distribution is `E[X] = p`, and the variance is `Var[X] = p * (1 - p)`."
      ],
      "metadata": {
        "id": "lqmOQvC0Uci4"
      }
    },
    {
      "cell_type": "code",
      "source": [
        "pip install silence_tensorflow"
      ],
      "metadata": {
        "colab": {
          "base_uri": "https://localhost:8080/"
        },
        "id": "UivHGD2pMHPV",
        "outputId": "6a36fa8c-a785-41d3-97a0-ece784cf6570"
      },
      "execution_count": 1,
      "outputs": [
        {
          "output_type": "stream",
          "name": "stdout",
          "text": [
            "Looking in indexes: https://pypi.org/simple, https://us-python.pkg.dev/colab-wheels/public/simple/\n",
            "Requirement already satisfied: silence_tensorflow in /usr/local/lib/python3.10/dist-packages (1.2.1)\n",
            "Requirement already satisfied: support-developer in /usr/local/lib/python3.10/dist-packages (from silence_tensorflow) (1.0.5)\n"
          ]
        }
      ]
    },
    {
      "cell_type": "markdown",
      "source": [
        "In order to automatically supress tensorflow warnings, import `silence_tensorflow.auto`"
      ],
      "metadata": {
        "id": "OwicHk3WMpNt"
      }
    },
    {
      "cell_type": "code",
      "execution_count": 2,
      "metadata": {
        "id": "UBmEPsAlKtRi"
      },
      "outputs": [],
      "source": [
        "import silence_tensorflow.auto"
      ]
    },
    {
      "cell_type": "code",
      "source": [
        "import tensorflow as tf"
      ],
      "metadata": {
        "id": "scPb3neJMAbR"
      },
      "execution_count": 3,
      "outputs": []
    },
    {
      "cell_type": "code",
      "source": [
        "# Import tensorflow_probability\n",
        "import tensorflow_probability as tfp"
      ],
      "metadata": {
        "id": "VRrgXKFUMCzF"
      },
      "execution_count": 4,
      "outputs": []
    },
    {
      "cell_type": "markdown",
      "source": [
        "Let us consider weather as the model. We can represent weather as either good weather or bad weather."
      ],
      "metadata": {
        "id": "yorvIhVB-Dxo"
      }
    },
    {
      "cell_type": "code",
      "source": [
        "# Instantiate our weather model\n",
        "weather = tfp.distributions.Bernoulli(probs = 0.8, name=\"weather\")"
      ],
      "metadata": {
        "id": "XN0nG-UMMVlt"
      },
      "execution_count": 5,
      "outputs": []
    },
    {
      "cell_type": "code",
      "source": [
        "weather"
      ],
      "metadata": {
        "colab": {
          "base_uri": "https://localhost:8080/"
        },
        "id": "mpjiy0N_Me9l",
        "outputId": "a32f3833-af15-46ab-f0dc-7ebf83834e60"
      },
      "execution_count": 6,
      "outputs": [
        {
          "output_type": "execute_result",
          "data": {
            "text/plain": [
              "<tfp.distributions.Bernoulli 'weather' batch_shape=[] event_shape=[] dtype=int32>"
            ]
          },
          "metadata": {},
          "execution_count": 6
        }
      ]
    },
    {
      "cell_type": "code",
      "source": [
        "# Sample the weather. We get sample in numpy=<sample>\n",
        "weather.sample()"
      ],
      "metadata": {
        "colab": {
          "base_uri": "https://localhost:8080/"
        },
        "id": "O1Ky5zKZMkie",
        "outputId": "4aa54d42-9886-4885-a1e0-3035ce214524"
      },
      "execution_count": 7,
      "outputs": [
        {
          "output_type": "execute_result",
          "data": {
            "text/plain": [
              "<tf.Tensor: shape=(), dtype=int32, numpy=1>"
            ]
          },
          "metadata": {},
          "execution_count": 7
        }
      ]
    },
    {
      "cell_type": "code",
      "source": [
        "weather.sample()"
      ],
      "metadata": {
        "colab": {
          "base_uri": "https://localhost:8080/"
        },
        "id": "WBpDLfzVMm3k",
        "outputId": "4a542dc0-619e-444f-a568-770890599806"
      },
      "execution_count": 8,
      "outputs": [
        {
          "output_type": "execute_result",
          "data": {
            "text/plain": [
              "<tf.Tensor: shape=(), dtype=int32, numpy=1>"
            ]
          },
          "metadata": {},
          "execution_count": 8
        }
      ]
    },
    {
      "cell_type": "markdown",
      "source": [
        "We sampled for once. But, we can also sample for multiple times."
      ],
      "metadata": {
        "id": "INMYOngxOW2v"
      }
    },
    {
      "cell_type": "code",
      "source": [
        "weather.sample(10)"
      ],
      "metadata": {
        "colab": {
          "base_uri": "https://localhost:8080/"
        },
        "id": "1MXAW4XUOVfP",
        "outputId": "d20289d1-6acb-4208-d8a2-d1a49f197603"
      },
      "execution_count": 9,
      "outputs": [
        {
          "output_type": "execute_result",
          "data": {
            "text/plain": [
              "<tf.Tensor: shape=(10,), dtype=int32, numpy=array([1, 1, 0, 0, 1, 0, 1, 1, 1, 1], dtype=int32)>"
            ]
          },
          "metadata": {},
          "execution_count": 9
        }
      ]
    },
    {
      "cell_type": "markdown",
      "source": [
        "Let's create a dataset."
      ],
      "metadata": {
        "id": "yXbvb_6vQrOg"
      }
    },
    {
      "cell_type": "code",
      "source": [
        "dataset = weather.sample(10)"
      ],
      "metadata": {
        "id": "iHHFSEdmQnEV"
      },
      "execution_count": 10,
      "outputs": []
    },
    {
      "cell_type": "code",
      "source": [
        "dataset"
      ],
      "metadata": {
        "colab": {
          "base_uri": "https://localhost:8080/"
        },
        "id": "WaZELb0xQxZu",
        "outputId": "25349e72-fd4e-4ff0-8d38-26133c10121a"
      },
      "execution_count": 11,
      "outputs": [
        {
          "output_type": "execute_result",
          "data": {
            "text/plain": [
              "<tf.Tensor: shape=(10,), dtype=int32, numpy=array([1, 1, 1, 1, 1, 1, 0, 1, 1, 1], dtype=int32)>"
            ]
          },
          "metadata": {},
          "execution_count": 11
        }
      ]
    },
    {
      "cell_type": "markdown",
      "source": [
        "Let's infer the probability of each event of dataset."
      ],
      "metadata": {
        "id": "X2thAT9kQ13b"
      }
    },
    {
      "cell_type": "code",
      "source": [
        "weather.prob(dataset)"
      ],
      "metadata": {
        "colab": {
          "base_uri": "https://localhost:8080/"
        },
        "id": "o5wEvRQGQz3N",
        "outputId": "265de965-1d36-4c1d-9ad8-7a8c87be6e46"
      },
      "execution_count": 12,
      "outputs": [
        {
          "output_type": "execute_result",
          "data": {
            "text/plain": [
              "<tf.Tensor: shape=(10,), dtype=float32, numpy=array([0.8, 0.8, 0.8, 0.8, 0.8, 0.8, 0.2, 0.8, 0.8, 0.8], dtype=float32)>"
            ]
          },
          "metadata": {},
          "execution_count": 12
        }
      ]
    },
    {
      "cell_type": "markdown",
      "source": [
        "Now, let's get the likelihood of the dataset."
      ],
      "metadata": {
        "id": "9O6yoEXgRIAe"
      }
    },
    {
      "cell_type": "code",
      "source": [
        "tf.reduce_prod(weather.prob(dataset))"
      ],
      "metadata": {
        "colab": {
          "base_uri": "https://localhost:8080/"
        },
        "id": "HobTCy-nQ_ld",
        "outputId": "158c4ec9-60b2-473b-9259-ffdab56cbe33"
      },
      "execution_count": 13,
      "outputs": [
        {
          "output_type": "execute_result",
          "data": {
            "text/plain": [
              "<tf.Tensor: shape=(), dtype=float32, numpy=0.026843555>"
            ]
          },
          "metadata": {},
          "execution_count": 13
        }
      ]
    },
    {
      "cell_type": "markdown",
      "source": [
        "The Bernoulli distribution is often used as a building block for more complex distributions and statistical models. For example, if you have a sequence of independent Bernoulli trials (each with the same probability of success), their sum follows a binomial distribution.\n",
        "\n",
        "It's worth noting that the Bernoulli distribution assumes that the trials are independent and that the probability of success remains constant across all trials. If these assumptions are not met, other distributions, such as the binomial or geometric distributions, might be more appropriate."
      ],
      "metadata": {
        "id": "mHymXVm8UyLe"
      }
    }
  ]
}