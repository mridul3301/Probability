{
  "nbformat": 4,
  "nbformat_minor": 0,
  "metadata": {
    "colab": {
      "provenance": []
    },
    "kernelspec": {
      "name": "python3",
      "display_name": "Python 3"
    }
  },
  "cells": [
    {
      "cell_type": "code",
      "metadata": {
        "id": "zRs8SxrqKe7q"
      },
      "source": [
        "! pip install pymc3 --upgrade"
      ],
      "execution_count": null,
      "outputs": []
    },
    {
      "cell_type": "code",
      "metadata": {
        "id": "YAsBNCMcaTcv"
      },
      "source": [
        "import scipy.stats as stats\n",
        "import numpy as np\n",
        "import matplotlib.pyplot as plt\n",
        "from scipy import integrate \n",
        "from scipy.special import comb\n",
        "import scipy\n",
        "import pymc3 as pm\n",
        "from math import gamma, pow\n",
        "import arviz as az"
      ],
      "execution_count": null,
      "outputs": []
    },
    {
      "cell_type": "code",
      "metadata": {
        "id": "jHJ4rL-GKmmM",
        "outputId": "e8cfcd50-122b-439a-8f55-f22857a96956",
        "colab": {
          "base_uri": "https://localhost:8080/",
          "height": 35
        }
      },
      "source": [
        "pm.__version__"
      ],
      "execution_count": null,
      "outputs": [
        {
          "output_type": "execute_result",
          "data": {
            "application/vnd.google.colaboratory.intrinsic": {
              "type": "string"
            },
            "text/plain": [
              "'3.7'"
            ]
          },
          "metadata": {
            "tags": []
          },
          "execution_count": 5
        }
      ]
    },
    {
      "cell_type": "markdown",
      "metadata": {
        "id": "RO-pSn5HrDdQ"
      },
      "source": [
        "#### Bayesian Statistics - From Concept to Data Analysis (Coursera)\n",
        "Week 1 - Honors"
      ]
    },
    {
      "cell_type": "code",
      "metadata": {
        "id": "Bs9IG17dgOH9",
        "outputId": "e4716d81-c651-41eb-8a2a-8d5d45983e21",
        "colab": {
          "base_uri": "https://localhost:8080/",
          "height": 34
        }
      },
      "source": [
        "# if X ~ exp(3) then P(x>1/3) = ?\n",
        "# If X \\sim \\text{Exp}(3)X∼Exp(3), what is the value of P(X>1/3)P(X>1/3)? Round your answer to two decimal places.\n",
        "1 - stats.expon.cdf(x=1/3, scale=1/3)"
      ],
      "execution_count": null,
      "outputs": [
        {
          "output_type": "execute_result",
          "data": {
            "text/plain": [
              "0.36787944117144233"
            ]
          },
          "metadata": {
            "tags": []
          },
          "execution_count": 6
        }
      ]
    },
    {
      "cell_type": "markdown",
      "metadata": {
        "id": "f9nnPaLjjwE0"
      },
      "source": [
        "Suppose X ~ Uniform(0,2) and Y ~ Uniform (8,10) \n",
        "What is the value of E(4X + Y)?\n"
      ]
    },
    {
      "cell_type": "code",
      "metadata": {
        "id": "TDRcaK10jVBe",
        "outputId": "14f69a08-a5d0-4386-ce87-dd4d37da1b9d",
        "colab": {
          "base_uri": "https://localhost:8080/",
          "height": 34
        }
      },
      "source": [
        "# uniform over interval [loc, loc+scale]\n",
        "4*stats.uniform.expect(loc=0, scale=2) + stats.uniform.expect(loc=8, scale=2)"
      ],
      "execution_count": null,
      "outputs": [
        {
          "output_type": "execute_result",
          "data": {
            "text/plain": [
              "13.0"
            ]
          },
          "metadata": {
            "tags": []
          },
          "execution_count": 9
        }
      ]
    },
    {
      "cell_type": "markdown",
      "metadata": {
        "id": "RWtNCVtEvgOw"
      },
      "source": [
        "Suppose $X∼N(1,5^2)$ and $ Y \\sim N(-2, 3^2) $ and that X and Y are independent. We have $ Z = X + Y \\sim N(\\mu, \\sigma^2) $ because the sum of normal random variables also follows a normal distribution.\n",
        "\n",
        "What is the value of $\\mu?$\n",
        "\n",
        "$\\mu = 1 + (-2) = -1$\n",
        "\n",
        "What is the value of $\\sigma^2 $ ?\n",
        "\n",
        "Hint: If two random variables are independent, the variance of their sum is the sum of their variances.\n",
        "\n",
        "$ \\sigma^2 = 5^2 + 3^2 $"
      ]
    },
    {
      "cell_type": "code",
      "metadata": {
        "id": "7V_SQ277s96o",
        "outputId": "752b04a6-664c-4028-9bff-50555a50c564",
        "colab": {
          "base_uri": "https://localhost:8080/",
          "height": 34
        }
      },
      "source": [
        "5**2 + 9"
      ],
      "execution_count": null,
      "outputs": [
        {
          "output_type": "execute_result",
          "data": {
            "text/plain": [
              "34"
            ]
          },
          "metadata": {
            "tags": []
          },
          "execution_count": 10
        }
      ]
    },
    {
      "cell_type": "markdown",
      "metadata": {
        "id": "g6jDXmIA21A4"
      },
      "source": [
        "Consider again X ~ $N(1, 5^2)$  and Y ~ $N(-2, 3^2)$  but this time X and Y are not independent. Then Z = X+Y is still normally distributed with the same mean found in Question 4. What is the variance of Z if E(XY) = -5?\n",
        "\n",
        "Var(X+Y)=Var(X)+Var(Y)+2Cov(X,Y)\n",
        "\n",
        "Cov(X,Y) = E(XY) − E(X)E(Y)"
      ]
    },
    {
      "cell_type": "code",
      "metadata": {
        "id": "DBoFt_L-x-VZ",
        "outputId": "96bec352-005d-4a1b-eedc-07a3f9097acf",
        "colab": {
          "base_uri": "https://localhost:8080/",
          "height": 34
        }
      },
      "source": [
        "34 + 2*(-5 -(1)*(-2))"
      ],
      "execution_count": null,
      "outputs": [
        {
          "output_type": "execute_result",
          "data": {
            "text/plain": [
              "28"
            ]
          },
          "metadata": {
            "tags": []
          },
          "execution_count": 15
        }
      ]
    },
    {
      "cell_type": "markdown",
      "metadata": {
        "id": "tPMxy1UWztkS"
      },
      "source": [
        "Using the central limit theorem as an approximation, and following the example of Lesson 4.1, construct a 95% confidence interval for p, the probability of obtaining heads.\n",
        "\n",
        "Report the lower end of this interval and round your answer to two decimal places."
      ]
    },
    {
      "cell_type": "code",
      "metadata": {
        "id": "XZk72MI14Umf",
        "outputId": "168c5e34-fd35-44db-c70b-b370efd07631",
        "colab": {
          "base_uri": "https://localhost:8080/",
          "height": 34
        }
      },
      "source": [
        "theta = 0.47\n",
        "n = 100\n",
        "mu = theta\n",
        "sem = np.sqrt(theta*(1-theta)/n)\n",
        "\n",
        "# 95% Confidence interval\n",
        "mu - 1.96*sem, mu + 1.96*sem"
      ],
      "execution_count": null,
      "outputs": [
        {
          "output_type": "execute_result",
          "data": {
            "text/plain": [
              "(0.37217655904641256, 0.5678234409535874)"
            ]
          },
          "metadata": {
            "tags": []
          },
          "execution_count": 10
        }
      ]
    },
    {
      "cell_type": "markdown",
      "metadata": {
        "id": "CdWFY8x50ato"
      },
      "source": [
        "Recall from Lesson 4.4 that $ if X_1,\\ldots,X_n \\overset{\\text{iid}}{\\sim} $ $\\text {Exponential}(\\lambda) $ (iid means independent and identically distributed), then the MLE for $ \\lambda $ is $1/\\bar{x} $ where $\\bar{x} $\n",
        "is the sample mean. Suppose we observe the following data: $ X_1 = 2.0, X_2=2.5 , X_3=4.1,\\ X_4=1.8,\\ X_5=4.0 $\n",
        "\n",
        "Calculate the MLE for $ \\lambda $. Round your answer to two decimal places."
      ]
    },
    {
      "cell_type": "code",
      "metadata": {
        "id": "0xQyTtGVrz9B",
        "outputId": "949ba8b2-ac84-4e5b-8483-f6414f560c85",
        "colab": {
          "base_uri": "https://localhost:8080/",
          "height": 34
        }
      },
      "source": [
        "mu = (2 + 2.5 + 4.1 + 1.8 + 4)/5\n",
        "\n",
        "lambda_ = 1/mu\n",
        "lambda_"
      ],
      "execution_count": null,
      "outputs": [
        {
          "output_type": "execute_result",
          "data": {
            "text/plain": [
              "0.3472222222222222"
            ]
          },
          "metadata": {
            "tags": []
          },
          "execution_count": 16
        }
      ]
    },
    {
      "cell_type": "code",
      "metadata": {
        "id": "9YeF4jhW5DJ-",
        "outputId": "bca28fa9-04ba-4917-f849-cd14e6231f3d",
        "colab": {
          "base_uri": "https://localhost:8080/",
          "height": 34
        }
      },
      "source": [
        "mu_normal = -(1.2) + 0.5 + 0.8 - (0.3)\n",
        "mle_x = mu_normal/4\n",
        "mle_x"
      ],
      "execution_count": null,
      "outputs": [
        {
          "output_type": "execute_result",
          "data": {
            "text/plain": [
              "-0.049999999999999975"
            ]
          },
          "metadata": {
            "tags": []
          },
          "execution_count": 15
        }
      ]
    },
    {
      "cell_type": "markdown",
      "metadata": {
        "id": "avmU6foHNbmn"
      },
      "source": [
        "We can define the likelihood by either treating this as Bernoulli distribution (each y is a Bernoulli outcome $ \\in \\{0,1\\} $ with 400 samples or a Binomial dustribution with 1 sample of size 400 - 400 here corresponding to 400 Bernoulli events.\n",
        "\n",
        "**Case 1 -**\n",
        "\n",
        "With Bernoulli distribution the likelihood can be defined as - \n",
        "\n",
        "n = 400      (No. of samples) \n",
        "p - probability of a patient dying i.e mortality rate\n",
        "\n",
        "$ y \\in \\{0,1\\} $   ( A patient either died (1) or survived)\n",
        "\n",
        "$ F_1 = f(y|\\theta) = \\prod_{i=1}^n p^{y_i} (1-p)^{1-y_i}$\n",
        "\n",
        "\n",
        "**Case 2 -**  \n",
        "\n",
        "Wih Binomial distribution, the likelihood can be defined as -\n",
        "\n",
        "n - 400  (Total No. of Bernoulli trials)\n",
        "\n",
        "p - probability of a patient dying i.e mortality rate\n",
        "\n",
        "y - No. of successses in Bernoulli trials  i.e of patients who died out of n trials\n",
        "\n",
        "$ F_2 = f(y|\\theta) = {n \\choose y} p^y (1-p)^{n-y}$\n",
        "\n",
        "Note that F1 and F2 will have the same value, so we can solve this either by Binomial likelihood or a Bernoulli likelihood.\n",
        "\n"
      ]
    },
    {
      "cell_type": "code",
      "metadata": {
        "id": "SnFe1wss5lv2"
      },
      "source": [
        "# Plotting likelihood for hospital example with second approach - Treating this as Binomial distribution \n",
        "\n",
        "def likelihood(theta, y, N):\n",
        "  # Binomial distribution with N = 500\n",
        "  # y = No. of successes\n",
        "  return (theta**y)*((1-theta)**(N-y))"
      ],
      "execution_count": null,
      "outputs": []
    },
    {
      "cell_type": "code",
      "metadata": {
        "id": "reozUkBT_OPQ"
      },
      "source": [
        "theta = np.arange(0.01, 0.99, step=0.01)\n",
        "likelihoods = np.apply_along_axis(likelihood, axis=1,arr=theta.reshape(-1,1),y=72.0, N=500)"
      ],
      "execution_count": null,
      "outputs": []
    },
    {
      "cell_type": "code",
      "metadata": {
        "id": "eMWH4OM1AQcp",
        "outputId": "93259d75-2f38-4230-c954-6c26d4363873",
        "colab": {
          "base_uri": "https://localhost:8080/",
          "height": 276
        }
      },
      "source": [
        "plt.scatter(theta, likelihoods)\n",
        "plt.show()"
      ],
      "execution_count": null,
      "outputs": [
        {
          "output_type": "display_data",
          "data": {
            "image/png": "[encoded data removed]",
            "text/plain": [
              "<Figure size 432x288 with 1 Axes>"
            ]
          },
          "metadata": {
            "tags": [],
            "needs_background": "light"
          }
        }
      ]
    },
    {
      "cell_type": "code",
      "metadata": {
        "id": "kChwLZlxTmSU",
        "outputId": "3642a5e1-c330-4077-8c91-6a9179ca3726",
        "colab": {
          "base_uri": "https://localhost:8080/",
          "height": 34
        }
      },
      "source": [
        "# Theta with maximum value of likelihood\n",
        "likelihoods.max(), theta[np.argmax(likelihoods)]"
      ],
      "execution_count": null,
      "outputs": [
        {
          "output_type": "execute_result",
          "data": {
            "text/plain": [
              "(3.06588387367417e-90, 0.14)"
            ]
          },
          "metadata": {
            "tags": []
          },
          "execution_count": 31
        }
      ]
    },
    {
      "cell_type": "code",
      "metadata": {
        "id": "xYdQYg1EFzMA"
      },
      "source": [
        "def loglikelihood(theta, y, N):\n",
        "  return y*np.log(theta) + (N-y)*np.log(1-theta)"
      ],
      "execution_count": null,
      "outputs": []
    },
    {
      "cell_type": "code",
      "metadata": {
        "id": "scWGZuzDLSyt"
      },
      "source": [
        "log_likelihoods = np.apply_along_axis(loglikelihood, axis=1,arr=theta.reshape(-1,1),y=72.0, N=500)"
      ],
      "execution_count": null,
      "outputs": []
    },
    {
      "cell_type": "code",
      "metadata": {
        "id": "Ez_l89VhLYwp",
        "outputId": "49260cbb-f00e-4ba3-91df-4b7cabfdcbab",
        "colab": {
          "base_uri": "https://localhost:8080/",
          "height": 265
        }
      },
      "source": [
        "plt.scatter(theta, log_likelihoods)\n",
        "plt.show()"
      ],
      "execution_count": null,
      "outputs": [
        {
          "output_type": "display_data",
          "data": {
            "image/png": "[encoded data removed]",
            "text/plain": [
              "<Figure size 432x288 with 1 Axes>"
            ]
          },
          "metadata": {
            "tags": [],
            "needs_background": "light"
          }
        }
      ]
    },
    {
      "cell_type": "code",
      "metadata": {
        "id": "lXWPjx1yLcJD",
        "outputId": "2680ebfd-46b2-4c70-e964-95e2bd4c90f5",
        "colab": {
          "base_uri": "https://localhost:8080/",
          "height": 34
        }
      },
      "source": [
        "log_likelihoods.max(), theta[np.argmax(log_likelihoods)]"
      ],
      "execution_count": null,
      "outputs": [
        {
          "output_type": "execute_result",
          "data": {
            "text/plain": [
              "(-206.11232246524577, 0.14)"
            ]
          },
          "metadata": {
            "tags": []
          },
          "execution_count": 35
        }
      ]
    },
    {
      "cell_type": "code",
      "metadata": {
        "id": "ft77EclOeaVk",
        "outputId": "e2ed2e30-66b3-4161-f5e4-39a869f8979d",
        "colab": {
          "base_uri": "https://localhost:8080/",
          "height": 34
        }
      },
      "source": [
        "# 5% confidence interval for Standard normal distribution\n",
        "stats.norm.interval(alpha=0.5, loc=0, scale=1)"
      ],
      "execution_count": null,
      "outputs": [
        {
          "output_type": "execute_result",
          "data": {
            "text/plain": [
              "(-0.6744897501960817, 0.6744897501960817)"
            ]
          },
          "metadata": {
            "tags": []
          },
          "execution_count": 46
        }
      ]
    },
    {
      "cell_type": "code",
      "metadata": {
        "id": "GQhlujDpiZU0",
        "outputId": "e0227c2c-809f-4999-c3b1-cb3c8de653fa",
        "colab": {
          "base_uri": "https://localhost:8080/",
          "height": 34
        }
      },
      "source": [
        "# Let X ∼ Pois(3). Find P(X = 1). Ans - 0.149\n",
        "stats.poisson.pmf(mu=3, k=1)"
      ],
      "execution_count": null,
      "outputs": [
        {
          "output_type": "execute_result",
          "data": {
            "text/plain": [
              "0.14936120510359185"
            ]
          },
          "metadata": {
            "tags": []
          },
          "execution_count": 48
        }
      ]
    },
    {
      "cell_type": "code",
      "metadata": {
        "id": "LfygrOVImFid",
        "outputId": "2a91bdff-1c54-4f02-dc24-ee0a89aa5eb1",
        "colab": {
          "base_uri": "https://localhost:8080/",
          "height": 34
        }
      },
      "source": [
        "# Let X ∼ Pois(3). Find P(X ≤ 1). Ans - (0.199)\n",
        "stats.poisson.cdf(mu=3,k=1)"
      ],
      "execution_count": null,
      "outputs": [
        {
          "output_type": "execute_result",
          "data": {
            "text/plain": [
              "0.1991482734714558"
            ]
          },
          "metadata": {
            "tags": []
          },
          "execution_count": 49
        }
      ]
    },
    {
      "cell_type": "code",
      "metadata": {
        "id": "KBZyi2OVme9n",
        "outputId": "82420091-fa6f-4449-d9c4-55977f16c324",
        "colab": {
          "base_uri": "https://localhost:8080/",
          "height": 34
        }
      },
      "source": [
        "# Let X ∼ Pois(3). Find P(X > 1). Ans - (0.801)\n",
        "1 - stats.poisson.cdf(mu=3, k=1)\n"
      ],
      "execution_count": null,
      "outputs": [
        {
          "output_type": "execute_result",
          "data": {
            "text/plain": [
              "0.8008517265285442"
            ]
          },
          "metadata": {
            "tags": []
          },
          "execution_count": 50
        }
      ]
    },
    {
      "cell_type": "code",
      "metadata": {
        "id": "_zpMh0A6mvgO",
        "outputId": "fb383eb1-1ca1-492e-da0c-040b1d6106d3",
        "colab": {
          "base_uri": "https://localhost:8080/",
          "height": 34
        }
      },
      "source": [
        "# Let Y ∼ Gamma(2, 1/3). Find P(0.5 < Y < 1.5). Ans - (0.078)\n",
        "# a = alpha                      (No. of events)\n",
        "# scale = 1/beta                 (beta - Rate parameter)\n",
        "\n",
        "stats.gamma.cdf(a=2, scale=3, x=1.5) - stats.gamma.cdf(a=2, scale=3, x=0.5)"
      ],
      "execution_count": null,
      "outputs": [
        {
          "output_type": "execute_result",
          "data": {
            "text/plain": [
              "0.07776602280343295"
            ]
          },
          "metadata": {
            "tags": []
          },
          "execution_count": 52
        }
      ]
    },
    {
      "cell_type": "code",
      "metadata": {
        "id": "88v6RyG38qoi",
        "outputId": "0bd2e19e-a088-4eeb-f3ee-aea9e5dbf6ee",
        "colab": {
          "base_uri": "https://localhost:8080/",
          "height": 34
        }
      },
      "source": [
        "# Let Z ∼ N(0, 1). Find z such that P(Z < z) = 0.975. (1.96)\n",
        "# Using percent point function i.e inverse of CDF\n",
        "stats.norm.ppf(loc=0, scale=1, q=0.975)"
      ],
      "execution_count": null,
      "outputs": [
        {
          "output_type": "execute_result",
          "data": {
            "text/plain": [
              "1.959963984540054"
            ]
          },
          "metadata": {
            "tags": []
          },
          "execution_count": 54
        }
      ]
    },
    {
      "cell_type": "markdown",
      "metadata": {
        "id": "VKngaN5gcKYd"
      },
      "source": [
        "Suppose you collect measurements to perform inference about a population mean $ \\theta$ . Your posterior distribution after observing data is $ \\theta∣y∼N(0,1) $.\n",
        "\n",
        "Report the upper end of a 95% equal-tailed interval for $ \\theta $. Round your answer to two decimal places."
      ]
    },
    {
      "cell_type": "code",
      "metadata": {
        "id": "xFS8Q6rfdZjp",
        "outputId": "780ed8ae-bd4f-4d31-ff6c-7e89f22d56ce",
        "colab": {
          "base_uri": "https://localhost:8080/",
          "height": 34
        }
      },
      "source": [
        "stats.norm.interval(alpha=0.95, loc=0, scale=1)"
      ],
      "execution_count": null,
      "outputs": [
        {
          "output_type": "execute_result",
          "data": {
            "text/plain": [
              "(-1.959963984540054, 1.959963984540054)"
            ]
          },
          "metadata": {
            "tags": []
          },
          "execution_count": 58
        }
      ]
    },
    {
      "cell_type": "markdown",
      "metadata": {
        "id": "FsPQcNAa8lf2"
      },
      "source": [
        "### Week 2 quiz\n"
      ]
    },
    {
      "cell_type": "code",
      "metadata": {
        "id": "W7mFouw98lJz"
      },
      "source": [
        "prior_cons = prior_lib = 0.5"
      ],
      "execution_count": null,
      "outputs": []
    },
    {
      "cell_type": "code",
      "metadata": {
        "id": "s8sfFt6ABoiX"
      },
      "source": [
        "def likelihood(n,y,p):\n",
        "  return comb(N=n,k=y) * (p ** y) * ((1-p) ** (n-y))"
      ],
      "execution_count": null,
      "outputs": []
    },
    {
      "cell_type": "code",
      "metadata": {
        "id": "tl1MjXq7DetN",
        "outputId": "6156caec-f8fc-4087-c05e-7f13a7921ab1",
        "colab": {
          "base_uri": "https://localhost:8080/",
          "height": 34
        }
      },
      "source": [
        "# Given that the response was no for all questions, No. of yes = 0, so y = 0. \n",
        "# To find posterior prob of him being conservative, the prior = 0.5\n",
        "# L(y=0|theta=conservative)*P(conservative) / (L(y0=|theta=conservative)*P(conservative) + L(y=0|theta=liberal))\n",
        "n = 5\n",
        "y = 0                   # all no\n",
        "p_given_cons = 0.8                 # given conservative, probability of p is 0.8\n",
        "p_given_liberal = 0.3              # given liberal, probability of yes = 1 - p(no) = 1- 0.7 = 0.3\n",
        "\n",
        "posterior_prob_conservative = likelihood(n,y,p_given_cons)*prior_cons / (likelihood(n,y,p_given_cons)*prior_cons + likelihood(n,y,p_given_liberal)*prior_lib)\n",
        "posterior_prob_conservative"
      ],
      "execution_count": null,
      "outputs": [
        {
          "output_type": "execute_result",
          "data": {
            "text/plain": [
              "0.0019003503771007767"
            ]
          },
          "metadata": {
            "tags": []
          },
          "execution_count": 18
        }
      ]
    },
    {
      "cell_type": "code",
      "metadata": {
        "id": "r0PpsQQ1Je4G",
        "outputId": "6861d7dd-3459-49b4-89da-46d49f3fe1eb",
        "colab": {
          "base_uri": "https://localhost:8080/",
          "height": 34
        }
      },
      "source": [
        "# Likelihood of observing all no given the person is liberal\n",
        "likelihood(n,y,p_given_liberal)"
      ],
      "execution_count": null,
      "outputs": [
        {
          "output_type": "execute_result",
          "data": {
            "text/plain": [
              "0.16806999999999994"
            ]
          },
          "metadata": {
            "tags": []
          },
          "execution_count": 19
        }
      ]
    },
    {
      "cell_type": "code",
      "metadata": {
        "id": "Xmn1DsS9J3ov",
        "outputId": "8d0e26c6-da8c-4fa6-b3a5-8ec155d5db89",
        "colab": {
          "base_uri": "https://localhost:8080/",
          "height": 34
        }
      },
      "source": [
        "# Likelihood of observing all no given the person is conservative\n",
        "likelihood(n,y,p_cons)"
      ],
      "execution_count": null,
      "outputs": [
        {
          "output_type": "execute_result",
          "data": {
            "text/plain": [
              "0.00031999999999999965"
            ]
          },
          "metadata": {
            "tags": []
          },
          "execution_count": 15
        }
      ]
    },
    {
      "cell_type": "markdown",
      "metadata": {
        "id": "XDO0kvgcKFj2"
      },
      "source": [
        "The above likelihood makes sense since it is stated already that a conservative will say yes with p=0.8 i.e more likely to say yes than no. So, likelihood for a conservative person to say no is very less."
      ]
    },
    {
      "cell_type": "code",
      "metadata": {
        "id": "Vm0mS_fROhAl",
        "outputId": "923b85b2-3fdb-4654-c809-1cf1bd6ad5fa",
        "colab": {
          "base_uri": "https://localhost:8080/",
          "height": 34
        }
      },
      "source": [
        "# Given that the response was no for all questions, No. of yes = 0, so y = 0. \n",
        "# To find posterior prob of him being liberal, the prior = 0.5\n",
        "n = 5\n",
        "y = 0                   # all no\n",
        "\n",
        "posterior_prob_liberal = likelihood(n,y,p_given_liberal)*prior_lib / (likelihood(n,y,p_given_liberal)*prior_lib + likelihood(n,y,p_given_cons)*prior_cons)\n",
        "posterior_prob_liberal"
      ],
      "execution_count": null,
      "outputs": [
        {
          "output_type": "execute_result",
          "data": {
            "text/plain": [
              "0.9980996496228993"
            ]
          },
          "metadata": {
            "tags": []
          },
          "execution_count": 20
        }
      ]
    },
    {
      "cell_type": "code",
      "metadata": {
        "id": "d6eGwZ2KQFtj"
      },
      "source": [
        "p_fair = 0.4\n",
        "p_loaded_heads = 0.3\n",
        "p_loaded_tails = 0.3\n"
      ],
      "execution_count": null,
      "outputs": []
    },
    {
      "cell_type": "code",
      "metadata": {
        "id": "nInmd_zoQn1x"
      },
      "source": [
        "def coinLikelihood(n,y,p):\n",
        "  return comb(N=n, k=y) * (p**y) * (1-p)**(n-y)"
      ],
      "execution_count": null,
      "outputs": []
    },
    {
      "cell_type": "code",
      "metadata": {
        "id": "nqYfXq9aSby4",
        "outputId": "74416b59-55c3-439f-d68a-329ebc629a5b",
        "colab": {
          "base_uri": "https://localhost:8080/",
          "height": 34
        }
      },
      "source": [
        "# tossed 4 times  and obtained head twice. Posterior Probability of fair coin\n",
        "# probability_fair = likelihood 2 heads given fair/ (likelihood 2 heads given fair + likelihood 2 heads given loaded heads + likelihood 2 heads given loaded tails)\n",
        "n = 4\n",
        "y = 2\n",
        "p = 0.5                      # fair coin\n",
        "prob_fair_coin = coinLikelihood(n, y, p)* p_fair/ (coinLikelihood(n, y, p)*p_fair + \n",
        "                                                   coinLikelihood(n, y, 0.7)*p_loaded_heads + \n",
        "                                                   coinLikelihood(n, y, 0.3)*p_loaded_tails)\n",
        "prob_fair_coin"
      ],
      "execution_count": null,
      "outputs": [
        {
          "output_type": "execute_result",
          "data": {
            "text/plain": [
              "0.4858142246404975"
            ]
          },
          "metadata": {
            "tags": []
          },
          "execution_count": 18
        }
      ]
    },
    {
      "cell_type": "code",
      "metadata": {
        "id": "yuBKu2dnT8U5",
        "outputId": "4e534bd7-81ac-479e-a4f5-ec3e635e58bc",
        "colab": {
          "base_uri": "https://localhost:8080/",
          "height": 34
        }
      },
      "source": [
        "1 - prob_fair_coin"
      ],
      "execution_count": null,
      "outputs": [
        {
          "output_type": "execute_result",
          "data": {
            "text/plain": [
              "0.5141857753595025"
            ]
          },
          "metadata": {
            "tags": []
          },
          "execution_count": 19
        }
      ]
    },
    {
      "cell_type": "code",
      "metadata": {
        "id": "NLVMkukYUSQb",
        "outputId": "1606d2ed-3e71-4bfd-fcce-40b4db1f5260",
        "colab": {
          "base_uri": "https://localhost:8080/",
          "height": 34
        }
      },
      "source": [
        "stats.beta.interval(alpha=0.95, a=8,b=16)"
      ],
      "execution_count": null,
      "outputs": [
        {
          "output_type": "execute_result",
          "data": {
            "text/plain": [
              "(0.16376359837494986, 0.5291916660085065)"
            ]
          },
          "metadata": {
            "tags": []
          },
          "execution_count": 2
        }
      ]
    },
    {
      "cell_type": "markdown",
      "metadata": {
        "id": "Vpkm2jZwAaTH"
      },
      "source": [
        "Suppose we use a Bernoulli likelihood for each coin flip, i.e., $ f(y_i \\mid \\theta) = \\theta^{y_i} (1-\\theta)^{1-y_i} I_{\\{ 0 \\le \\theta \\le 1 \\}} $\n",
        " =1, and a uniform prior for $\\theta$.\n",
        "\n",
        "Find the posterior probability that $\\theta$ < 0.5 if we observe the sequence (T,T,T,T). Round your answer to two decimal places."
      ]
    },
    {
      "cell_type": "code",
      "metadata": {
        "id": "vSrmdKoMLyzu",
        "outputId": "4187d859-acd6-4a7f-af9c-a2e9629019a8",
        "colab": {
          "base_uri": "https://localhost:8080/",
          "height": 34
        }
      },
      "source": [
        "# solving this as Binomial distribution with 4 Bernoulli trials with 0 heads\n",
        "n = 4\n",
        "y = 0\n",
        "\n",
        "# Posterior probability distribution is Beta(1+0, 1+n-0) = Beta(1,5)\n",
        "post_beta_dist = scipy.stats.beta(a=1, b=5)\n",
        "\n",
        "# CDF theta < 0.5\n",
        "post_beta_dist.cdf(x=0.5)"
      ],
      "execution_count": null,
      "outputs": [
        {
          "output_type": "execute_result",
          "data": {
            "text/plain": [
              "0.96875"
            ]
          },
          "metadata": {
            "tags": []
          },
          "execution_count": 7
        }
      ]
    },
    {
      "cell_type": "markdown",
      "metadata": {
        "id": "LBqU9XqpDprP"
      },
      "source": [
        "### Chemical refinement\n",
        "\n",
        "The engineer tells you that the process is considered promising and can proceed to another phase of testing if we are 90% sure that the failure rate is less than .35.\n",
        "\n",
        "Calculate the posterior probability $ P(\\theta < .35 \\mid x)$. In your role as the statistician, would you say that this new chemical should pass?"
      ]
    },
    {
      "cell_type": "code",
      "metadata": {
        "id": "yAwnlQLjB9cn",
        "outputId": "473f85c3-1a0d-4c24-f4e1-25be92c7277f",
        "colab": {
          "base_uri": "https://localhost:8080/",
          "height": 51
        }
      },
      "source": [
        "# Question 6 - \n",
        "n = 20\n",
        "fails = 6\n",
        "alpha = 2 + fails\n",
        "beta = 2 + n -  fails\n",
        "print(alpha, beta)\n",
        "post_dist = scipy.stats.beta(a=alpha, b=beta)\n",
        "post_dist.cdf(x=0.35)"
      ],
      "execution_count": null,
      "outputs": [
        {
          "output_type": "stream",
          "text": [
            "8 16\n"
          ],
          "name": "stdout"
        },
        {
          "output_type": "execute_result",
          "data": {
            "text/plain": [
              "0.5864310314450809"
            ]
          },
          "metadata": {
            "tags": []
          },
          "execution_count": 10
        }
      ]
    },
    {
      "cell_type": "code",
      "metadata": {
        "id": "QueNZPPbEMcN",
        "outputId": "fafbbd8a-a22b-481f-bed9-ec15b46fd1e6",
        "colab": {
          "base_uri": "https://localhost:8080/",
          "height": 51
        }
      },
      "source": [
        "# should not be allowed\n",
        "n = 25\n",
        "fails = 6\n",
        "alpha = 2 + fails\n",
        "beta = 2 + n - fails\n",
        "print(alpha, beta)\n",
        "post_dist = scipy.stats.beta(a=alpha, b=beta)\n",
        "post_dist.cdf(x=0.35)"
      ],
      "execution_count": null,
      "outputs": [
        {
          "output_type": "stream",
          "text": [
            "8 21\n"
          ],
          "name": "stdout"
        },
        {
          "output_type": "execute_result",
          "data": {
            "text/plain": [
              "0.8179064455690616"
            ]
          },
          "metadata": {
            "tags": []
          },
          "execution_count": 11
        }
      ]
    },
    {
      "cell_type": "markdown",
      "metadata": {
        "id": "82vXA0z5hxtW"
      },
      "source": [
        "### Lesson 8"
      ]
    },
    {
      "cell_type": "code",
      "metadata": {
        "id": "wHysOHkpFZLD",
        "outputId": "afbb63ca-3aad-44ae-dd44-c4442ea5eb7b",
        "colab": {
          "base_uri": "https://localhost:8080/",
          "height": 265
        }
      },
      "source": [
        "x = np.linspace(1,30)\n",
        "alpha_p = 8                  # shape parameter \n",
        "beta_p =  1                   # rate parameter\n",
        "prior_dist = scipy.stats.gamma(a=alpha_p, scale=1/beta_p)\n",
        "posterior_dist = scipy.stats.gamma(a=67, scale=1/6)\n",
        "\n",
        "plt.scatter(x, prior_dist.pdf(x), marker='o', c='blue', label='prior')\n",
        "plt.scatter(x, posterior_dist.pdf(x), marker='x', c='red', label='posterior')\n",
        "plt.legend()\n",
        "plt.show()\n"
      ],
      "execution_count": null,
      "outputs": [
        {
          "output_type": "display_data",
          "data": {
            "image/png": "[encoded data removed]",
            "text/plain": [
              "<Figure size 432x288 with 1 Axes>"
            ]
          },
          "metadata": {
            "tags": [],
            "needs_background": "light"
          }
        }
      ]
    },
    {
      "cell_type": "code",
      "metadata": {
        "id": "Et6dBGqSo3E_",
        "outputId": "0cf531af-2bfc-4f33-cd9d-93ae3237f900",
        "colab": {
          "base_uri": "https://localhost:8080/",
          "height": 34
        }
      },
      "source": [
        "# Posterior mean\n",
        "posterior_dist.expect()"
      ],
      "execution_count": null,
      "outputs": [
        {
          "output_type": "execute_result",
          "data": {
            "text/plain": [
              "11.166666666666552"
            ]
          },
          "metadata": {
            "tags": []
          },
          "execution_count": 15
        }
      ]
    },
    {
      "cell_type": "code",
      "metadata": {
        "id": "YCWnWaCXqOA2",
        "outputId": "a15f03c9-35b4-4cc5-ed98-fc25ef18b1b0",
        "colab": {
          "base_uri": "https://localhost:8080/",
          "height": 34
        }
      },
      "source": [
        "posterior_dist.interval(alpha=0.90)"
      ],
      "execution_count": null,
      "outputs": [
        {
          "output_type": "execute_result",
          "data": {
            "text/plain": [
              "(9.021381966387125, 13.501302326315084)"
            ]
          },
          "metadata": {
            "tags": []
          },
          "execution_count": 16
        }
      ]
    },
    {
      "cell_type": "code",
      "metadata": {
        "id": "ORbXneH3qdeD",
        "outputId": "b7398488-b459-44cb-a0ae-11c265926e04",
        "colab": {
          "base_uri": "https://localhost:8080/",
          "height": 34
        }
      },
      "source": [
        "6/120"
      ],
      "execution_count": null,
      "outputs": [
        {
          "output_type": "execute_result",
          "data": {
            "text/plain": [
              "0.05"
            ]
          },
          "metadata": {
            "tags": []
          },
          "execution_count": 17
        }
      ]
    },
    {
      "cell_type": "markdown",
      "metadata": {
        "id": "2qr7qdFhz3Ig"
      },
      "source": [
        "Now suppose the prior for $\\theta $ is $\\text{Beta}(2,2) $. What is the prior predictive probability that $y^*=1 $ for a new observation y*\n",
        " ? Round your answer to one decimal place."
      ]
    },
    {
      "cell_type": "code",
      "metadata": {
        "id": "4RyELeaCuFwL",
        "outputId": "122e8831-5ad8-4e3b-ee45-bc6663c02152",
        "colab": {
          "base_uri": "https://localhost:8080/",
          "height": 34
        }
      },
      "source": [
        "# Prior predictive probability \n",
        "y = 1\n",
        "alpha = 2+y\n",
        "beta = 2 + 1 -y\n",
        "scipy.stats.beta(a=alpha, b=beta).expect()"
      ],
      "execution_count": null,
      "outputs": [
        {
          "output_type": "execute_result",
          "data": {
            "text/plain": [
              "0.6"
            ]
          },
          "metadata": {
            "tags": []
          },
          "execution_count": 18
        }
      ]
    },
    {
      "cell_type": "code",
      "metadata": {
        "id": "SvjuR9n70pc2",
        "outputId": "9bf0e308-826f-4e21-9a6f-40149ccd24ea",
        "colab": {
          "base_uri": "https://localhost:8080/",
          "height": 34
        }
      },
      "source": [
        "integrate.quad(lambda x: (x**2)*(1-x)**2, 0,1)[0]*6"
      ],
      "execution_count": null,
      "outputs": [
        {
          "output_type": "execute_result",
          "data": {
            "text/plain": [
              "0.2"
            ]
          },
          "metadata": {
            "tags": []
          },
          "execution_count": 22
        }
      ]
    },
    {
      "cell_type": "code",
      "metadata": {
        "id": "_vU4M8FZ877V",
        "outputId": "d24a8b14-601d-490e-b610-554830e4b0a7",
        "colab": {
          "base_uri": "https://localhost:8080/",
          "height": 34
        }
      },
      "source": [
        "integrate.quad(lambda x: (x**6)*(1-x)**7, 0,1)[0] * math.factorial(13) /(math.factorial(4) * math.factorial(8))"
      ],
      "execution_count": null,
      "outputs": [
        {
          "output_type": "execute_result",
          "data": {
            "text/plain": [
              "0.26785714285714285"
            ]
          },
          "metadata": {
            "tags": []
          },
          "execution_count": 28
        }
      ]
    },
    {
      "cell_type": "markdown",
      "metadata": {
        "id": "lIvvMByNFylF"
      },
      "source": [
        "### Week 3 Honors quiz"
      ]
    },
    {
      "cell_type": "code",
      "metadata": {
        "id": "EFLT7EPUFsYN"
      },
      "source": [
        "a = 2\n",
        "b = 2\n",
        "with pm.Model() as model:\n",
        "  p = pm.Beta('p', alpha=a, beta=b)\n",
        "  likelihood = pm.Bernoulli('likelihood',p=p)\n",
        "\n",
        "  # Get samples from prior distribution\n",
        "  prior = pm.sample_prior_predictive(samples=1000, model=model, random_seed=1)"
      ],
      "execution_count": null,
      "outputs": []
    },
    {
      "cell_type": "code",
      "metadata": {
        "id": "mPceoh30NDMu",
        "outputId": "78e38ef6-b1b6-439a-f593-ac5629d95dff",
        "colab": {
          "base_uri": "https://localhost:8080/",
          "height": 34
        }
      },
      "source": [
        "type(prior)"
      ],
      "execution_count": null,
      "outputs": [
        {
          "output_type": "execute_result",
          "data": {
            "text/plain": [
              "dict"
            ]
          },
          "metadata": {
            "tags": []
          },
          "execution_count": 27
        }
      ]
    },
    {
      "cell_type": "code",
      "metadata": {
        "id": "VdS_TC-KNd8p",
        "outputId": "3e750514-a105-4800-aa33-07147da33b86",
        "colab": {
          "base_uri": "https://localhost:8080/",
          "height": 34
        }
      },
      "source": [
        "prior.keys()"
      ],
      "execution_count": null,
      "outputs": [
        {
          "output_type": "execute_result",
          "data": {
            "text/plain": [
              "dict_keys(['p', 'likelihood', 'p_logodds__'])"
            ]
          },
          "metadata": {
            "tags": []
          },
          "execution_count": 28
        }
      ]
    },
    {
      "cell_type": "code",
      "metadata": {
        "id": "AX3AtWhYRR19",
        "outputId": "653b3969-b978-4e4a-8697-f4a42bde8e95",
        "colab": {
          "base_uri": "https://localhost:8080/",
          "height": 34
        }
      },
      "source": [
        "# Get prior predictive probability of y=1, i.e probability of p from the generated samples by computing the mean of all probabilities of y=1\n",
        "prior['p'].mean()"
      ],
      "execution_count": null,
      "outputs": [
        {
          "output_type": "execute_result",
          "data": {
            "text/plain": [
              "0.5085157957344193"
            ]
          },
          "metadata": {
            "tags": []
          },
          "execution_count": 30
        }
      ]
    },
    {
      "cell_type": "code",
      "metadata": {
        "id": "ONkBKOhGTbKj",
        "outputId": "c5b5d7b8-f373-43a3-d710-aca54970e435",
        "colab": {
          "base_uri": "https://localhost:8080/",
          "height": 576
        }
      },
      "source": [
        "# Prior probability distribution for p\n",
        "pm.traceplot(prior)"
      ],
      "execution_count": null,
      "outputs": [
        {
          "output_type": "execute_result",
          "data": {
            "text/plain": [
              "array([[<matplotlib.axes._subplots.AxesSubplot object at 0x7f04b030b588>,\n",
              "        <matplotlib.axes._subplots.AxesSubplot object at 0x7f04b02abf60>],\n",
              "       [<matplotlib.axes._subplots.AxesSubplot object at 0x7f04b025dfd0>,\n",
              "        <matplotlib.axes._subplots.AxesSubplot object at 0x7f04b0290978>],\n",
              "       [<matplotlib.axes._subplots.AxesSubplot object at 0x7f04b0244550>,\n",
              "        <matplotlib.axes._subplots.AxesSubplot object at 0x7f04b01f69b0>]],\n",
              "      dtype=object)"
            ]
          },
          "metadata": {
            "tags": []
          },
          "execution_count": 36
        },
        {
          "output_type": "display_data",
          "data": {
            "image/png": "[encoded data removed]",
            "text/plain": [
              "<Figure size 864x432 with 6 Axes>"
            ]
          },
          "metadata": {
            "tags": [],
            "needs_background": "light"
          }
        }
      ]
    },
    {
      "cell_type": "markdown",
      "metadata": {
        "id": "RTOzbEenRudo"
      },
      "source": [
        "After specifying our Beta(2,2) prior for $\\theta$ , we observe 10 Bernoulli trials, 3 of which are successes.\n",
        "\n",
        "What is the posterior predictive probability that y*=1 for the next (11th) observation y* ? Round your answer to two decimal places."
      ]
    },
    {
      "cell_type": "code",
      "metadata": {
        "id": "ReE4QjNTQ849",
        "outputId": "dcb6369e-2b21-42b7-e7fb-fbd844492353",
        "colab": {
          "base_uri": "https://localhost:8080/",
          "height": 142
        }
      },
      "source": [
        "with pm.Model() as model:\n",
        "  p = pm.Beta('p',alpha=a, beta=b)\n",
        "  likelihood = pm.Binomial('y', n=10, p=p, observed=3)\n",
        "  trace = pm.sample(1000)\n"
      ],
      "execution_count": null,
      "outputs": [
        {
          "output_type": "stream",
          "text": [
            "Auto-assigning NUTS sampler...\n",
            "Initializing NUTS using jitter+adapt_diag...\n",
            "Sequential sampling (2 chains in 1 job)\n",
            "NUTS: [p]\n"
          ],
          "name": "stderr"
        },
        {
          "output_type": "display_data",
          "data": {
            "text/html": [
              "\n",
              "    <div>\n",
              "        <style>\n",
              "            /* Turns off some styling */\n",
              "            progress {\n",
              "                /* gets rid of default border in Firefox and Opera. */\n",
              "                border: none;\n",
              "                /* Needs to be in here for Safari polyfill so background images work as expected. */\n",
              "                background-size: auto;\n",
              "            }\n",
              "            .progress-bar-interrupted, .progress-bar-interrupted::-webkit-progress-bar {\n",
              "                background: #F44336;\n",
              "            }\n",
              "        </style>\n",
              "      <progress value='2000' class='' max='2000' style='width:300px; height:20px; vertical-align: middle;'></progress>\n",
              "      100.00% [2000/2000 00:01<00:00 Sampling chain 0, 0 divergences]\n",
              "    </div>\n",
              "    "
            ],
            "text/plain": [
              "<IPython.core.display.HTML object>"
            ]
          },
          "metadata": {
            "tags": []
          }
        },
        {
          "output_type": "display_data",
          "data": {
            "text/html": [
              "\n",
              "    <div>\n",
              "        <style>\n",
              "            /* Turns off some styling */\n",
              "            progress {\n",
              "                /* gets rid of default border in Firefox and Opera. */\n",
              "                border: none;\n",
              "                /* Needs to be in here for Safari polyfill so background images work as expected. */\n",
              "                background-size: auto;\n",
              "            }\n",
              "            .progress-bar-interrupted, .progress-bar-interrupted::-webkit-progress-bar {\n",
              "                background: #F44336;\n",
              "            }\n",
              "        </style>\n",
              "      <progress value='2000' class='' max='2000' style='width:300px; height:20px; vertical-align: middle;'></progress>\n",
              "      100.00% [2000/2000 00:01<00:00 Sampling chain 1, 0 divergences]\n",
              "    </div>\n",
              "    "
            ],
            "text/plain": [
              "<IPython.core.display.HTML object>"
            ]
          },
          "metadata": {
            "tags": []
          }
        },
        {
          "output_type": "stream",
          "text": [
            "Sampling 2 chains for 1_000 tune and 1_000 draw iterations (2_000 + 2_000 draws total) took 3 seconds.\n"
          ],
          "name": "stderr"
        }
      ]
    },
    {
      "cell_type": "code",
      "metadata": {
        "id": "8r7pcNMjSyZ_",
        "outputId": "bcc956bd-fd2d-47fb-8dce-65dba2e64cc2",
        "colab": {
          "base_uri": "https://localhost:8080/",
          "height": 34
        }
      },
      "source": [
        "trace['p'].mean()"
      ],
      "execution_count": null,
      "outputs": [
        {
          "output_type": "execute_result",
          "data": {
            "text/plain": [
              "0.3586771991006943"
            ]
          },
          "metadata": {
            "tags": []
          },
          "execution_count": 33
        }
      ]
    },
    {
      "cell_type": "code",
      "metadata": {
        "id": "4gyOV9x-TFpQ",
        "outputId": "0baad094-0947-4797-cfb6-a3b5248f0167",
        "colab": {
          "base_uri": "https://localhost:8080/",
          "height": 274
        }
      },
      "source": [
        "# Potserior probability distribution after observing 3 success out of 10 trials\n",
        "pm.traceplot(trace)"
      ],
      "execution_count": null,
      "outputs": [
        {
          "output_type": "stream",
          "text": [
            "/usr/local/lib/python3.6/dist-packages/arviz/data/io_pymc3.py:89: FutureWarning: Using `from_pymc3` without the model will be deprecated in a future release. Not using the model will return less accurate and less useful results. Make sure you use the model argument or call from_pymc3 within a model context.\n",
            "  FutureWarning,\n"
          ],
          "name": "stderr"
        },
        {
          "output_type": "execute_result",
          "data": {
            "text/plain": [
              "array([[<matplotlib.axes._subplots.AxesSubplot object at 0x7f04b47ad6d8>,\n",
              "        <matplotlib.axes._subplots.AxesSubplot object at 0x7f04b475b6d8>]],\n",
              "      dtype=object)"
            ]
          },
          "metadata": {
            "tags": []
          },
          "execution_count": 34
        },
        {
          "output_type": "display_data",
          "data": {
            "image/png": "[encoded data removed]",
            "text/plain": [
              "<Figure size 864x144 with 2 Axes>"
            ]
          },
          "metadata": {
            "tags": [],
            "needs_background": "light"
          }
        }
      ]
    },
    {
      "cell_type": "markdown",
      "metadata": {
        "id": "5k5lVv1Yr2qQ"
      },
      "source": [
        "**Solving the above questions using derived expression for computing marginal probability** of observing y=1 i.e predictive and posterior probability.\n",
        "\n",
        "For Bernoulli trial with Beta prior, the marginal probability of y is\n",
        "\n",
        "$f(y) = \\int_0^1 f(y|\\theta) f(\\theta) d\\theta $\n",
        "\n",
        "where $f(\\theta)$ is the prior distribution $Beta(a,b)$ for parameter p for Bernouuli trial Bernoulli(p) in case of computing marginal probability to compute prior predictive probability.\n",
        "\n",
        "The derived expression for this marginal probability is obtained as a function of y, which gives the probability of y=1 , i.e probability of outcome = 1 in the Bernoulli trial -\n",
        "\n",
        "$f(y) = \\frac{\\Gamma(a+b) \\Gamma(a+y) \\Gamma(b-y+1)}{\\Gamma(a) \\Gamma(b) \\Gamma(a+b+1)}$\n",
        "\n",
        "In case of computing marginal probability for posterior predictive probability, this $f(\\theta)$ is replaced by $f(\\theta|y)$ posterior brobability distribution of p which is also a $ Beta(a',b') $  distribution.\n",
        "\n",
        "Since Beta is a conjute prior for Bernoulli distribution, this expression for computing marginal distribution is the same for prior and posterior predictive distribution since $f(\\theta)$ and $f(\\theta|y)$ belongs to the same family of distribution. \n",
        "\n",
        "While obtaining predictive distributions, we use the respective parameters of Beta priors and posterior distributions in the expression.\n",
        "\n",
        "**Using the above expression to obtain prior predictive distribution with Beta(2,2)**\n"
      ]
    },
    {
      "cell_type": "code",
      "metadata": {
        "id": "vctzSD8xwdXE"
      },
      "source": [
        "def computeMarginalY(a,b,y):\n",
        "  return (gamma(a+b) * gamma(a+y) * gamma(b-y+1)) / (gamma(a) * gamma(b) * gamma(a+b+1))"
      ],
      "execution_count": null,
      "outputs": []
    },
    {
      "cell_type": "code",
      "metadata": {
        "id": "fV8rVIXovw0s",
        "outputId": "e3b4cf7b-9062-4e90-e4c0-836fc5bc6d18",
        "colab": {
          "base_uri": "https://localhost:8080/",
          "height": 34
        }
      },
      "source": [
        "a = 2\n",
        "b = 2\n",
        "y = 1\n",
        "\n",
        "computeMarginalY(a,b,y)"
      ],
      "execution_count": null,
      "outputs": [
        {
          "output_type": "execute_result",
          "data": {
            "text/plain": [
              "0.5"
            ]
          },
          "metadata": {
            "tags": []
          },
          "execution_count": 9
        }
      ]
    },
    {
      "cell_type": "markdown",
      "metadata": {
        "id": "JGDXJITJwlwt"
      },
      "source": [
        "After observing 3 successes for 10 trials, the posterior probability distribution becomes $Beta(a+3, 10-b+1)$ i.e $Beta(5,9) $\n",
        "**Using the above expression to obtain posterior predictive probability for 11th Bernoulli outcome with Beta(5,9)**"
      ]
    },
    {
      "cell_type": "code",
      "metadata": {
        "id": "pWYKdExfnxof",
        "outputId": "9aad0ddb-9ad1-405b-cb9b-6655f76185df",
        "colab": {
          "base_uri": "https://localhost:8080/",
          "height": 34
        }
      },
      "source": [
        "num_trials = 10\n",
        "num_success = 3\n",
        "\n",
        "computeMarginalY(a + num_success, n - b + 1, y)"
      ],
      "execution_count": null,
      "outputs": [
        {
          "output_type": "execute_result",
          "data": {
            "text/plain": [
              "0.35714285714285715"
            ]
          },
          "metadata": {
            "tags": []
          },
          "execution_count": 10
        }
      ]
    },
    {
      "cell_type": "markdown",
      "metadata": {
        "id": "ewfRsIgsUeGF"
      },
      "source": [
        "### week 4\n",
        "\n",
        "#### Lesson 9\n",
        "\n",
        "Suppose that we wish to use a prior with the same mean (1/20), but with effective sample size of one arrival. Then the prior for $\\lambda $ is Gamma(1, 20).\n",
        "\n",
        "In addition to the original $Y_1=12$, we observe the waiting times for four additional busses: $Y_2=15, Y_3=8, Y_4=13.5, Y_5=25.$\n",
        "\n",
        "Recall that with multiple (independent) observations, the posterior for $\\lambda$ is $ Gamma(\\alpha, \\beta) $ where $\\alpha $ = a + n and $\\beta $ = b + $ \\sum y_i.$\n",
        "\n",
        "What is the posterior mean for $\\lambda?$ Round your answer to two decimal places.\n"
      ]
    },
    {
      "cell_type": "code",
      "metadata": {
        "id": "vByzscSdykSm"
      },
      "source": [
        "# Parameters for prior distribution\n",
        "alpha = 1           # since effective sample size i.e a is 1\n",
        "beta = 20\n",
        "# After 5 observations, total waiting time i.e sum_y\n",
        "n = 5\n",
        "sum_y = 12 + 15 + 8 + 13.5 + 25"
      ],
      "execution_count": null,
      "outputs": []
    },
    {
      "cell_type": "code",
      "metadata": {
        "id": "40ePxHb-wbYO",
        "outputId": "8d4fea1b-54f0-44a7-ad65-bc3e8d4fb221",
        "colab": {
          "base_uri": "https://localhost:8080/",
          "height": 34
        }
      },
      "source": [
        "alpha + n, beta + sum_y"
      ],
      "execution_count": null,
      "outputs": [
        {
          "output_type": "execute_result",
          "data": {
            "text/plain": [
              "(6, 93.5)"
            ]
          },
          "metadata": {
            "tags": []
          },
          "execution_count": 39
        }
      ]
    },
    {
      "cell_type": "code",
      "metadata": {
        "id": "iIzmGBIUV6j5",
        "outputId": "1878e2bd-453a-4eff-d1f3-e6e12a112924",
        "colab": {
          "base_uri": "https://localhost:8080/",
          "height": 34
        }
      },
      "source": [
        "# Expectation of posterior distribution with Gamma(alpha + n, beta + sum_y)\n",
        "stats.gamma(a=alpha + n, scale=1/(beta + sum_y)).expect()"
      ],
      "execution_count": null,
      "outputs": [
        {
          "output_type": "execute_result",
          "data": {
            "text/plain": [
              "0.06417112299465241"
            ]
          },
          "metadata": {
            "tags": []
          },
          "execution_count": 40
        }
      ]
    },
    {
      "cell_type": "markdown",
      "metadata": {
        "id": "3SzrXPywZBia"
      },
      "source": [
        "### find the posterior probability that $\\lambda $ < 1/10"
      ]
    },
    {
      "cell_type": "code",
      "metadata": {
        "id": "P0frPacMWcgZ",
        "outputId": "e9d94d2f-ecde-463b-b8b8-b7e5fd1df903",
        "colab": {
          "base_uri": "https://localhost:8080/",
          "height": 34
        }
      },
      "source": [
        "stats.gamma.cdf(a=alpha + n, scale=1/(beta + sum_y), x=1/10)"
      ],
      "execution_count": null,
      "outputs": [
        {
          "output_type": "execute_result",
          "data": {
            "text/plain": [
              "0.9039698786381929"
            ]
          },
          "metadata": {
            "tags": []
          },
          "execution_count": 41
        }
      ]
    },
    {
      "cell_type": "code",
      "metadata": {
        "id": "3Jgm-QAwZPqQ",
        "outputId": "91d652cc-51a4-4d1f-b6c4-257c3ea2d1f5",
        "colab": {
          "base_uri": "https://localhost:8080/",
          "height": 265
        }
      },
      "source": [
        "x = np.linspace(0,0.5, 1000)\n",
        "plt.scatter(x, stats.gamma(a=alpha , scale=1/(beta)).pdf(x), label=\"prior\")\n",
        "plt.scatter(x, stats.gamma(a=alpha + n, scale=1/(beta + sum_y)).pdf(x), label='posterior')\n",
        "plt.legend()\n",
        "plt.show()"
      ],
      "execution_count": null,
      "outputs": [
        {
          "output_type": "display_data",
          "data": {
            "image/png": "[encoded data removed]",
            "text/plain": [
              "<Figure size 432x288 with 1 Axes>"
            ]
          },
          "metadata": {
            "tags": [],
            "needs_background": "light"
          }
        }
      ]
    },
    {
      "cell_type": "markdown",
      "metadata": {
        "id": "raYHY1XiffEa"
      },
      "source": [
        "#### 7. The posterior distribution is $\\lambda \\mid \\mathbf{y} \\sim \\text{Gamma}(\\alpha, \\beta) $ . What is the value of $ \\alpha? $"
      ]
    },
    {
      "cell_type": "code",
      "metadata": {
        "id": "xWv7LcHpbBZl",
        "outputId": "d9feecea-1ea6-4d57-fc6c-4dbba1f3d1cf",
        "colab": {
          "base_uri": "https://localhost:8080/",
          "height": 34
        }
      },
      "source": [
        " sum_y = 16 + 8 + 114 + 60 + 4 + 23 + 30 + 105\n",
        "\n",
        "alpha = 1                 # since effective sample size i.e a is 1\n",
        "beta = 30 \n",
        "\n",
        "n = 8\n",
        "a = alpha + n\n",
        "b = beta + sum_y\n",
        "print(a, b)"
      ],
      "execution_count": null,
      "outputs": [
        {
          "output_type": "stream",
          "text": [
            "9 390\n"
          ],
          "name": "stdout"
        }
      ]
    },
    {
      "cell_type": "code",
      "metadata": {
        "id": "4X864N7Agilf",
        "outputId": "cb0526ce-47f5-414e-b057-3dd4e2267871",
        "colab": {
          "base_uri": "https://localhost:8080/",
          "height": 34
        }
      },
      "source": [
        "stats.gamma(a=a, scale=1/(b)).interval(alpha=0.95)"
      ],
      "execution_count": null,
      "outputs": [
        {
          "output_type": "execute_result",
          "data": {
            "text/plain": [
              "(0.010552238711226496, 0.04041843389793157)"
            ]
          },
          "metadata": {
            "tags": []
          },
          "execution_count": 44
        }
      ]
    },
    {
      "cell_type": "code",
      "metadata": {
        "id": "aXkqK7GFg4Bk"
      },
      "source": [
        "def posterior_predictive_density(y):\n",
        "  n = 8\n",
        "  a = alpha + n\n",
        "  b = beta + sum_y\n",
        "  return (pow(beta, alpha) * alpha) / pow(beta + y, alpha + 1)\n"
      ],
      "execution_count": null,
      "outputs": []
    },
    {
      "cell_type": "code",
      "metadata": {
        "id": "QGkFHtdOuP5g"
      },
      "source": [
        "vf = np.vectorize(posterior_predictive_density)"
      ],
      "execution_count": null,
      "outputs": []
    },
    {
      "cell_type": "code",
      "metadata": {
        "id": "uxcitcaHh7-C",
        "outputId": "10a739cc-062a-4538-a89a-6a209899d94c",
        "colab": {
          "base_uri": "https://localhost:8080/",
          "height": 265
        }
      },
      "source": [
        "y = np.arange(1,100, step=3)\n",
        "plt.scatter(y, vf(y))\n",
        "plt.show()"
      ],
      "execution_count": null,
      "outputs": [
        {
          "output_type": "display_data",
          "data": {
            "image/png": "[encoded data removed]",
            "text/plain": [
              "<Figure size 432x288 with 1 Axes>"
            ]
          },
          "metadata": {
            "tags": [],
            "needs_background": "light"
          }
        }
      ]
    },
    {
      "cell_type": "markdown",
      "metadata": {
        "id": "QKlg8IS1qma1"
      },
      "source": [
        "### Week 4\n",
        "\n",
        "Lession 10"
      ]
    },
    {
      "cell_type": "code",
      "metadata": {
        "id": "BJFQn1l1kKhc",
        "outputId": "67aebe00-1b87-44ce-e21c-e4a1e46d863c",
        "colab": {
          "base_uri": "https://localhost:8080/",
          "height": 34
        }
      },
      "source": [
        "# Question 2\n",
        "data_var = 0.25                 # data variance\n",
        "w = 1                           # Effective sample size : data variance / prior variance\n",
        "\n",
        "prior_var = data_var / w\n",
        "prior_var"
      ],
      "execution_count": null,
      "outputs": [
        {
          "output_type": "execute_result",
          "data": {
            "text/plain": [
              "0.25"
            ]
          },
          "metadata": {
            "tags": []
          },
          "execution_count": 5
        }
      ]
    },
    {
      "cell_type": "code",
      "metadata": {
        "id": "m_ZTt8GCrrEp",
        "outputId": "0a7eb0e2-6b0d-47c4-f3be-122dbdc6989d",
        "colab": {
          "base_uri": "https://localhost:8080/",
          "height": 34
        }
      },
      "source": [
        "# Question 3\n",
        "n = 5                                          # No. of observations\n",
        "m = 100                                        # prior mean\n",
        "obs = np.array([94.6, 95.4, 96.2, 94.9, 95.9]) \n",
        "x_bar = obs.mean()                             # data mean\n",
        "\n",
        "\n",
        "posterior_mean = ((n/(n + (w))) * x_bar) +  ((w / (n+w)) * m)\n",
        "posterior_mean"
      ],
      "execution_count": null,
      "outputs": [
        {
          "output_type": "execute_result",
          "data": {
            "text/plain": [
              "96.16666666666669"
            ]
          },
          "metadata": {
            "tags": []
          },
          "execution_count": 6
        }
      ]
    },
    {
      "cell_type": "code",
      "metadata": {
        "id": "FV7Vk9YAu-CU",
        "outputId": "7097926a-c2bd-41f1-f0d0-6fdd8a38f155",
        "colab": {
          "base_uri": "https://localhost:8080/",
          "height": 34
        }
      },
      "source": [
        "posterior_variance = 1 / ((n/data_var) + (1/prior_var))\n",
        "posterior_variance"
      ],
      "execution_count": null,
      "outputs": [
        {
          "output_type": "execute_result",
          "data": {
            "text/plain": [
              "0.041666666666666664"
            ]
          },
          "metadata": {
            "tags": []
          },
          "execution_count": 7
        }
      ]
    },
    {
      "cell_type": "markdown",
      "metadata": {
        "id": "LkXHGTdXvez5"
      },
      "source": [
        "Fnd the upper end of a 95% equal-tailed credible interval for $\\theta.$"
      ]
    },
    {
      "cell_type": "code",
      "metadata": {
        "id": "1K9OSYK5vSKb",
        "outputId": "c9fbda1f-fd72-4da0-9412-f5cffb34a97c",
        "colab": {
          "base_uri": "https://localhost:8080/",
          "height": 34
        }
      },
      "source": [
        "stats.norm(loc=posterior_mean, scale=np.sqrt(posterior_variance)).interval(alpha=0.95)"
      ],
      "execution_count": null,
      "outputs": [
        {
          "output_type": "execute_result",
          "data": {
            "text/plain": [
              "(95.76659069363707, 96.5667426396963)"
            ]
          },
          "metadata": {
            "tags": []
          },
          "execution_count": 8
        }
      ]
    },
    {
      "cell_type": "code",
      "metadata": {
        "id": "BBxlwBJKvqb3",
        "outputId": "275d2ff2-ac95-4b72-baad-6a1c718d893b",
        "colab": {
          "base_uri": "https://localhost:8080/",
          "height": 265
        }
      },
      "source": [
        "x = np.linspace(93,105, 1000)\n",
        "plt.scatter(x, stats.norm(loc=m, scale=prior_var).pdf(x), label=\"prior\")\n",
        "plt.scatter(x, stats.norm(loc=posterior_mean, scale=np.sqrt(posterior_variance)).pdf(x), label='posterior')\n",
        "plt.legend()\n",
        "plt.show()"
      ],
      "execution_count": null,
      "outputs": [
        {
          "output_type": "display_data",
          "data": {
            "image/png": "[encoded data removed]",
            "text/plain": [
              "<Figure size 432x288 with 1 Axes>"
            ]
          },
          "metadata": {
            "tags": [],
            "needs_background": "light"
          }
        }
      ]
    },
    {
      "cell_type": "code",
      "metadata": {
        "id": "kMgoQwRZwEwn",
        "outputId": "ffda3faf-60e8-4cb6-97e1-45e4c7968ddd",
        "colab": {
          "base_uri": "https://localhost:8080/",
          "height": 34
        }
      },
      "source": [
        "stats.norm(loc=posterior_mean, scale=np.sqrt(posterior_variance)).cdf(x=100)"
      ],
      "execution_count": null,
      "outputs": [
        {
          "output_type": "execute_result",
          "data": {
            "text/plain": [
              "1.0"
            ]
          },
          "metadata": {
            "tags": []
          },
          "execution_count": 12
        }
      ]
    },
    {
      "cell_type": "code",
      "metadata": {
        "id": "Dbmqu-zswzph",
        "outputId": "a8fd0cde-26a4-4629-e8c9-43c3c326b606",
        "colab": {
          "base_uri": "https://localhost:8080/",
          "height": 34
        }
      },
      "source": [
        "# P(theta = 100)\n",
        "stats.norm(loc=posterior_mean, scale=np.sqrt(posterior_variance)).pdf(x=100)"
      ],
      "execution_count": null,
      "outputs": [
        {
          "output_type": "execute_result",
          "data": {
            "text/plain": [
              "5.133600214199964e-77"
            ]
          },
          "metadata": {
            "tags": []
          },
          "execution_count": 13
        }
      ]
    },
    {
      "cell_type": "markdown",
      "metadata": {
        "id": "OMzwWh5W9sg0"
      },
      "source": [
        "Question 6 - What is the posterior predictive distribution of a single future observation Y?\n",
        "\n",
        "Posterior predictive distribution for x ~ $ N(m_0, s0^2 + \\sigma_0^2)$ \n",
        "with $m_0$ replaced by posterior mean and $s_0$ replaced by posterior variance."
      ]
    },
    {
      "cell_type": "code",
      "metadata": {
        "id": "WHMzK0rgxGuP",
        "outputId": "2ce9cfc8-40d9-418a-a790-3ec72a01429f",
        "colab": {
          "base_uri": "https://localhost:8080/",
          "height": 34
        }
      },
      "source": [
        "posterior_predictive_variance = data_var + posterior_variance\n",
        "posterior_predictive_variance"
      ],
      "execution_count": null,
      "outputs": [
        {
          "output_type": "execute_result",
          "data": {
            "text/plain": [
              "0.2916666666666667"
            ]
          },
          "metadata": {
            "tags": []
          },
          "execution_count": 14
        }
      ]
    },
    {
      "cell_type": "code",
      "metadata": {
        "id": "xuPPmnUfGqTz",
        "outputId": "bf3bc159-a277-40b9-de15-2aeaf56967ad",
        "colab": {
          "base_uri": "https://localhost:8080/",
          "height": 34
        }
      },
      "source": [
        "## Question 8\n",
        "n = 27\n",
        "a = 3\n",
        "b = 200\n",
        "m = 500                           # prior mean\n",
        "gamma_samples = stats.gamma(a=a, scale=1/b).rvs(300)\n",
        "prior_variance = (1/gamma_samples).mean()\n",
        "prior_variance"
      ],
      "execution_count": null,
      "outputs": [
        {
          "output_type": "execute_result",
          "data": {
            "text/plain": [
              "97.69460002659414"
            ]
          },
          "metadata": {
            "tags": []
          },
          "execution_count": 5
        }
      ]
    },
    {
      "cell_type": "markdown",
      "metadata": {
        "id": "mcs3u1yiQ1kK"
      },
      "source": [
        "Question 9\n",
        "\n",
        "1. Drawing from posterior distribution of $f(sigma ^2|X)$ ~ $\\Gamma ^ {-1}(a', b')$\n",
        "2. Drawing from posterior distribution of $f(\\mu|\\sigma ^2, X) $"
      ]
    },
    {
      "cell_type": "code",
      "metadata": {
        "id": "ehQGJ8MwLg9e",
        "outputId": "7dcb7d9f-8efc-4b1d-c0e9-ac5646959758",
        "colab": {
          "base_uri": "https://localhost:8080/",
          "height": 34
        }
      },
      "source": [
        "a_ = 16.5\n",
        "b_ = 6022.9\n",
        "w = 0.1\n",
        "w_plus_n = 27.1\n",
        "m_ = 609.7\n",
        "posterior_var_draws = 1 / stats.gamma(a=a_, scale=1/b_).rvs(1000)\n",
        "posterior_var_draws.shape"
      ],
      "execution_count": null,
      "outputs": [
        {
          "output_type": "execute_result",
          "data": {
            "text/plain": [
              "(1000,)"
            ]
          },
          "metadata": {
            "tags": []
          },
          "execution_count": 6
        }
      ]
    },
    {
      "cell_type": "code",
      "metadata": {
        "id": "0QpEfIhqjyo6"
      },
      "source": [
        "# To obtain 1000 draws from posterior distribution of mu for each value of std\n",
        "# in the draws of posterior variance obtained earlier\n",
        "\n",
        "posterior_mean_draws = []\n",
        "for var in posterior_var_draws:\n",
        "  draws = stats.norm(loc=m_, scale=np.sqrt(var/w_plus_n)).rvs(1000)\n",
        "  posterior_mean_draws += draws.tolist()"
      ],
      "execution_count": null,
      "outputs": []
    },
    {
      "cell_type": "code",
      "metadata": {
        "id": "_VgiL2PGkB-b",
        "outputId": "41a892c8-e32e-4c52-ef0c-414478f68281",
        "colab": {
          "base_uri": "https://localhost:8080/",
          "height": 34
        }
      },
      "source": [
        "len(posterior_mean_draws)"
      ],
      "execution_count": null,
      "outputs": [
        {
          "output_type": "execute_result",
          "data": {
            "text/plain": [
              "1000000"
            ]
          },
          "metadata": {
            "tags": []
          },
          "execution_count": 14
        }
      ]
    },
    {
      "cell_type": "code",
      "metadata": {
        "id": "Ng-dYa2Thq9L",
        "outputId": "962e9e52-b167-4cf7-8dbb-f720922cba50",
        "colab": {
          "base_uri": "https://localhost:8080/",
          "height": 265
        }
      },
      "source": [
        "plt.hist(posterior_mean_draws)\n",
        "plt.show()"
      ],
      "execution_count": null,
      "outputs": [
        {
          "output_type": "display_data",
          "data": {
            "image/png": "[encoded data removed]",
            "text/plain": [
              "<Figure size 432x288 with 1 Axes>"
            ]
          },
          "metadata": {
            "tags": [],
            "needs_background": "light"
          }
        }
      ]
    },
    {
      "cell_type": "code",
      "metadata": {
        "id": "tIq28SxekiXc",
        "outputId": "8d80cca7-e8ae-4377-feb0-76521f869ece",
        "colab": {
          "base_uri": "https://localhost:8080/",
          "height": 34
        }
      },
      "source": [
        "# 95% equal tailed interval\n",
        "np.percentile(posterior_mean_draws, q=2.5), np.percentile(posterior_mean_draws, q=97.5)"
      ],
      "execution_count": null,
      "outputs": [
        {
          "output_type": "execute_result",
          "data": {
            "text/plain": [
              "(602.1779248804297, 617.2130532323428)"
            ]
          },
          "metadata": {
            "tags": []
          },
          "execution_count": 16
        }
      ]
    },
    {
      "cell_type": "code",
      "metadata": {
        "id": "hhs8iCU3cBAB",
        "outputId": "6118114d-7590-4422-b031-ceb97816c6a6",
        "colab": {
          "base_uri": "https://localhost:8080/",
          "height": 34
        }
      },
      "source": [
        "# Verify if the samples drawn for mean match with given value 609.3\n",
        "np.mean(posterior_mean_draws)"
      ],
      "execution_count": null,
      "outputs": [
        {
          "output_type": "execute_result",
          "data": {
            "text/plain": [
              "609.7037238695376"
            ]
          },
          "metadata": {
            "tags": []
          },
          "execution_count": 17
        }
      ]
    },
    {
      "cell_type": "markdown",
      "metadata": {
        "id": "PtWEYC8Kto7h"
      },
      "source": [
        "For restaurant A"
      ]
    },
    {
      "cell_type": "code",
      "metadata": {
        "id": "p-wO2MdNueQg",
        "outputId": "a7c7c279-6af3-44e2-80f5-e1f1cec6eca4",
        "colab": {
          "base_uri": "https://localhost:8080/",
          "height": 34
        }
      },
      "source": [
        "m"
      ],
      "execution_count": null,
      "outputs": [
        {
          "output_type": "execute_result",
          "data": {
            "text/plain": [
              "500"
            ]
          },
          "metadata": {
            "tags": []
          },
          "execution_count": 18
        }
      ]
    },
    {
      "cell_type": "code",
      "metadata": {
        "id": "ZzBht4lOe3pq",
        "outputId": "93a75426-e168-4701-c125-25ac0b5a1ca4",
        "colab": {
          "base_uri": "https://localhost:8080/",
          "height": 34
        }
      },
      "source": [
        "n = 30\n",
        "sample_var = 401.8\n",
        "sample_mean = 622.8\n",
        "\n",
        "m_ = ((n * sample_mean) + (w*m))/(n+w)            # posterior mean\n",
        "w_plus_n = n + w\n",
        "a_ = a + n/2\n",
        "b_ = b + (((n-1)/2) * sample_var) + ((n*w)/(2*w_plus_n))*((sample_mean - m)**2)\n",
        "a_, b_, w_plus_n, m_"
      ],
      "execution_count": null,
      "outputs": [
        {
          "output_type": "execute_result",
          "data": {
            "text/plain": [
              "(18.0, 6777.587043189369, 30.1, 622.3920265780731)"
            ]
          },
          "metadata": {
            "tags": []
          },
          "execution_count": 19
        }
      ]
    },
    {
      "cell_type": "code",
      "metadata": {
        "id": "fIoYhoDoulpc"
      },
      "source": [
        "# Draws from posterior variance\n",
        "posterior_var_a = 1/stats.gamma(a=a_, scale=1/b_).rvs(1000)"
      ],
      "execution_count": null,
      "outputs": []
    },
    {
      "cell_type": "code",
      "metadata": {
        "id": "iy6Zc7Utu6uz"
      },
      "source": [
        "# Draws from posterior mean using samples drawn from posterior variance\n",
        "posterior_mean_draws_a = []\n",
        "for var in posterior_var_a:\n",
        "  draws = stats.norm(loc=m_, scale=np.sqrt(var/w_plus_n)).rvs(1000)\n",
        "  posterior_mean_draws_a += draws.tolist()"
      ],
      "execution_count": null,
      "outputs": []
    },
    {
      "cell_type": "code",
      "metadata": {
        "id": "7C2Jg-M2v7d6",
        "outputId": "4730f077-b146-46a8-ddc1-61667d75b466",
        "colab": {
          "base_uri": "https://localhost:8080/",
          "height": 34
        }
      },
      "source": [
        "np.mean(posterior_mean_draws_a)"
      ],
      "execution_count": null,
      "outputs": [
        {
          "output_type": "execute_result",
          "data": {
            "text/plain": [
              "622.3900588660837"
            ]
          },
          "metadata": {
            "tags": []
          },
          "execution_count": 22
        }
      ]
    },
    {
      "cell_type": "code",
      "metadata": {
        "id": "8tbaWHLQwBX-",
        "outputId": "d33bf5c6-0b3d-4e59-bc6f-9c51c4c421b0",
        "colab": {
          "base_uri": "https://localhost:8080/",
          "height": 34
        }
      },
      "source": [
        "np.mean(posterior_mean_draws_a > posterior_mean_draws)"
      ],
      "execution_count": null,
      "outputs": [
        {
          "output_type": "execute_result",
          "data": {
            "text/plain": [
              "1.0"
            ]
          },
          "metadata": {
            "tags": []
          },
          "execution_count": 23
        }
      ]
    },
    {
      "cell_type": "markdown",
      "metadata": {
        "id": "RZbQ1DXbtxf6"
      },
      "source": [
        "### Lesson 4 \n",
        "Question 2"
      ]
    },
    {
      "cell_type": "code",
      "metadata": {
        "id": "qQLToxcfqDvy"
      },
      "source": [
        "heads = 4\n",
        "n = 5\n",
        "a = b = 0\n",
        "alpha_ = 0 + heads\n",
        "beta = b + n - heads\n",
        "\n"
      ],
      "execution_count": null,
      "outputs": []
    },
    {
      "cell_type": "markdown",
      "metadata": {
        "id": "RyHNAYFXu_LB"
      },
      "source": [
        "Question 3\n"
      ]
    },
    {
      "cell_type": "code",
      "metadata": {
        "id": "mogM5cNpu-nx",
        "outputId": "6e646b5c-a02a-48a4-d8cb-7a37865d4498",
        "colab": {
          "base_uri": "https://localhost:8080/",
          "height": 34
        }
      },
      "source": [
        "data_var = 0.25\n",
        "prior_mean = 1\n",
        "\n",
        "data = np.array([94.6, 95.4, 96.2, 94.9, 95.9])\n",
        "data_mean = data.mean()\n",
        "\n",
        "posterior_var = data_var/len(data)\n",
        "data_mean, posterior_var"
      ],
      "execution_count": null,
      "outputs": [
        {
          "output_type": "execute_result",
          "data": {
            "text/plain": [
              "(95.4, 0.05)"
            ]
          },
          "metadata": {
            "tags": []
          },
          "execution_count": 11
        }
      ]
    }
  ]
}